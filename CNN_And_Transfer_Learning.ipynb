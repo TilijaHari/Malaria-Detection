{
  "nbformat": 4,
  "nbformat_minor": 0,
  "metadata": {
    "colab": {
      "name": "CNN And Transfer Learning.ipynb",
      "provenance": [],
      "collapsed_sections": []
    },
    "kernelspec": {
      "name": "python3",
      "display_name": "Python 3"
    },
    "language_info": {
      "name": "python"
    },
    "accelerator": "GPU"
  },
  "cells": [
    {
      "cell_type": "code",
      "execution_count": 1,
      "metadata": {
        "id": "Sg3jNQ9g-K1G"
      },
      "outputs": [],
      "source": [
        "# import the libraries as shown below\n",
        "\n",
        "from tensorflow.keras.layers import Input, Lambda, Dense, Flatten,Conv2D\n",
        "from tensorflow.keras.models import Model\n",
        "from tensorflow.keras.applications.vgg19 import VGG19\n",
        "from tensorflow.keras.applications.resnet50 import preprocess_input\n",
        "from tensorflow.keras.preprocessing import image\n",
        "from tensorflow.keras.preprocessing.image import ImageDataGenerator,load_img\n",
        "from tensorflow.keras.models import Sequential\n",
        "import numpy as np\n",
        "from glob import glob\n",
        "import matplotlib.pyplot as plt"
      ]
    },
    {
      "cell_type": "code",
      "source": [
        "import tensorflow as tf\n",
        "print(tf.__version__)"
      ],
      "metadata": {
        "colab": {
          "base_uri": "https://localhost:8080/"
        },
        "id": "dTNeRGah-O_2",
        "outputId": "de20588e-e622-4c5b-a7f9-3fa8593740dd"
      },
      "execution_count": 2,
      "outputs": [
        {
          "output_type": "stream",
          "name": "stdout",
          "text": [
            "2.8.0\n"
          ]
        }
      ]
    },
    {
      "cell_type": "code",
      "source": [
        "# re-size all the images to this\n",
        "IMAGE_SIZE = [224, 224]\n",
        "\n",
        "train_path = 'cell_images/Train'\n",
        "valid_path = 'cell_images/Test'"
      ],
      "metadata": {
        "id": "Yz9Id29E-oZU"
      },
      "execution_count": 3,
      "outputs": []
    },
    {
      "cell_type": "code",
      "source": [
        "# Import the Vgg 16 library as shown below and add preprocessing layer to the front of VGG\n",
        "# Here we will be using imagenet weights\n",
        "# [3] is for RGB Channels\n",
        "\n",
        "vgg19 = VGG19(input_shape=IMAGE_SIZE + [3], weights='imagenet', include_top=False)"
      ],
      "metadata": {
        "id": "EFGhDk55A2Fo"
      },
      "execution_count": 6,
      "outputs": []
    },
    {
      "cell_type": "code",
      "source": [
        "vgg19.summary()"
      ],
      "metadata": {
        "colab": {
          "base_uri": "https://localhost:8080/"
        },
        "id": "j0weZoxgBjGp",
        "outputId": "0197f79a-cfcb-4c91-991a-922636ed5714"
      },
      "execution_count": 7,
      "outputs": [
        {
          "output_type": "stream",
          "name": "stdout",
          "text": [
            "Model: \"vgg19\"\n",
            "_________________________________________________________________\n",
            " Layer (type)                Output Shape              Param #   \n",
            "=================================================================\n",
            " input_2 (InputLayer)        [(None, 224, 224, 3)]     0         \n",
            "                                                                 \n",
            " block1_conv1 (Conv2D)       (None, 224, 224, 64)      1792      \n",
            "                                                                 \n",
            " block1_conv2 (Conv2D)       (None, 224, 224, 64)      36928     \n",
            "                                                                 \n",
            " block1_pool (MaxPooling2D)  (None, 112, 112, 64)      0         \n",
            "                                                                 \n",
            " block2_conv1 (Conv2D)       (None, 112, 112, 128)     73856     \n",
            "                                                                 \n",
            " block2_conv2 (Conv2D)       (None, 112, 112, 128)     147584    \n",
            "                                                                 \n",
            " block2_pool (MaxPooling2D)  (None, 56, 56, 128)       0         \n",
            "                                                                 \n",
            " block3_conv1 (Conv2D)       (None, 56, 56, 256)       295168    \n",
            "                                                                 \n",
            " block3_conv2 (Conv2D)       (None, 56, 56, 256)       590080    \n",
            "                                                                 \n",
            " block3_conv3 (Conv2D)       (None, 56, 56, 256)       590080    \n",
            "                                                                 \n",
            " block3_conv4 (Conv2D)       (None, 56, 56, 256)       590080    \n",
            "                                                                 \n",
            " block3_pool (MaxPooling2D)  (None, 28, 28, 256)       0         \n",
            "                                                                 \n",
            " block4_conv1 (Conv2D)       (None, 28, 28, 512)       1180160   \n",
            "                                                                 \n",
            " block4_conv2 (Conv2D)       (None, 28, 28, 512)       2359808   \n",
            "                                                                 \n",
            " block4_conv3 (Conv2D)       (None, 28, 28, 512)       2359808   \n",
            "                                                                 \n",
            " block4_conv4 (Conv2D)       (None, 28, 28, 512)       2359808   \n",
            "                                                                 \n",
            " block4_pool (MaxPooling2D)  (None, 14, 14, 512)       0         \n",
            "                                                                 \n",
            " block5_conv1 (Conv2D)       (None, 14, 14, 512)       2359808   \n",
            "                                                                 \n",
            " block5_conv2 (Conv2D)       (None, 14, 14, 512)       2359808   \n",
            "                                                                 \n",
            " block5_conv3 (Conv2D)       (None, 14, 14, 512)       2359808   \n",
            "                                                                 \n",
            " block5_conv4 (Conv2D)       (None, 14, 14, 512)       2359808   \n",
            "                                                                 \n",
            " block5_pool (MaxPooling2D)  (None, 7, 7, 512)         0         \n",
            "                                                                 \n",
            "=================================================================\n",
            "Total params: 20,024,384\n",
            "Trainable params: 20,024,384\n",
            "Non-trainable params: 0\n",
            "_________________________________________________________________\n"
          ]
        }
      ]
    },
    {
      "cell_type": "code",
      "source": [
        "# don't train existing weights\n",
        "for layer in vgg19.layers:\n",
        "    layer.trainable = False"
      ],
      "metadata": {
        "id": "9IxW_KzYBwjw"
      },
      "execution_count": 9,
      "outputs": []
    },
    {
      "cell_type": "code",
      "source": [
        "# useful for getting number of output classes\n",
        "folders = glob('/content/drive/MyDrive/Dataset/Train/*')"
      ],
      "metadata": {
        "id": "_wNH2h5DD2Iv"
      },
      "execution_count": 18,
      "outputs": []
    },
    {
      "cell_type": "code",
      "source": [
        "folders"
      ],
      "metadata": {
        "colab": {
          "base_uri": "https://localhost:8080/"
        },
        "id": "xFRxla_lEK7k",
        "outputId": "b5437b3f-9bfb-41ee-e01a-c8beea99a80c"
      },
      "execution_count": 19,
      "outputs": [
        {
          "output_type": "execute_result",
          "data": {
            "text/plain": [
              "['/content/drive/MyDrive/Dataset/Train/Uninfected',\n",
              " '/content/drive/MyDrive/Dataset/Train/Parasite']"
            ]
          },
          "metadata": {},
          "execution_count": 19
        }
      ]
    },
    {
      "cell_type": "code",
      "source": [
        "# our layers - you can add more if you want\n",
        "x = Flatten()(vgg19.output)"
      ],
      "metadata": {
        "id": "Ah-S3TOlEP4S"
      },
      "execution_count": 20,
      "outputs": []
    },
    {
      "cell_type": "code",
      "source": [
        "prediction = Dense(len(folders), activation='softmax')(x)\n",
        "\n",
        "# create a model object\n",
        "model = Model(inputs=vgg19.input, outputs=prediction)"
      ],
      "metadata": {
        "id": "NVCEcqArE_2j"
      },
      "execution_count": 21,
      "outputs": []
    },
    {
      "cell_type": "code",
      "source": [
        "# view the structure of the model\n",
        "model.summary()"
      ],
      "metadata": {
        "colab": {
          "base_uri": "https://localhost:8080/"
        },
        "id": "gxKk0C29FFo-",
        "outputId": "127ee00b-064d-45b3-c3e8-b604b8f5d9a5"
      },
      "execution_count": 22,
      "outputs": [
        {
          "output_type": "stream",
          "name": "stdout",
          "text": [
            "Model: \"model_2\"\n",
            "_________________________________________________________________\n",
            " Layer (type)                Output Shape              Param #   \n",
            "=================================================================\n",
            " input_2 (InputLayer)        [(None, 224, 224, 3)]     0         \n",
            "                                                                 \n",
            " block1_conv1 (Conv2D)       (None, 224, 224, 64)      1792      \n",
            "                                                                 \n",
            " block1_conv2 (Conv2D)       (None, 224, 224, 64)      36928     \n",
            "                                                                 \n",
            " block1_pool (MaxPooling2D)  (None, 112, 112, 64)      0         \n",
            "                                                                 \n",
            " block2_conv1 (Conv2D)       (None, 112, 112, 128)     73856     \n",
            "                                                                 \n",
            " block2_conv2 (Conv2D)       (None, 112, 112, 128)     147584    \n",
            "                                                                 \n",
            " block2_pool (MaxPooling2D)  (None, 56, 56, 128)       0         \n",
            "                                                                 \n",
            " block3_conv1 (Conv2D)       (None, 56, 56, 256)       295168    \n",
            "                                                                 \n",
            " block3_conv2 (Conv2D)       (None, 56, 56, 256)       590080    \n",
            "                                                                 \n",
            " block3_conv3 (Conv2D)       (None, 56, 56, 256)       590080    \n",
            "                                                                 \n",
            " block3_conv4 (Conv2D)       (None, 56, 56, 256)       590080    \n",
            "                                                                 \n",
            " block3_pool (MaxPooling2D)  (None, 28, 28, 256)       0         \n",
            "                                                                 \n",
            " block4_conv1 (Conv2D)       (None, 28, 28, 512)       1180160   \n",
            "                                                                 \n",
            " block4_conv2 (Conv2D)       (None, 28, 28, 512)       2359808   \n",
            "                                                                 \n",
            " block4_conv3 (Conv2D)       (None, 28, 28, 512)       2359808   \n",
            "                                                                 \n",
            " block4_conv4 (Conv2D)       (None, 28, 28, 512)       2359808   \n",
            "                                                                 \n",
            " block4_pool (MaxPooling2D)  (None, 14, 14, 512)       0         \n",
            "                                                                 \n",
            " block5_conv1 (Conv2D)       (None, 14, 14, 512)       2359808   \n",
            "                                                                 \n",
            " block5_conv2 (Conv2D)       (None, 14, 14, 512)       2359808   \n",
            "                                                                 \n",
            " block5_conv3 (Conv2D)       (None, 14, 14, 512)       2359808   \n",
            "                                                                 \n",
            " block5_conv4 (Conv2D)       (None, 14, 14, 512)       2359808   \n",
            "                                                                 \n",
            " block5_pool (MaxPooling2D)  (None, 7, 7, 512)         0         \n",
            "                                                                 \n",
            " flatten_2 (Flatten)         (None, 25088)             0         \n",
            "                                                                 \n",
            " dense_2 (Dense)             (None, 2)                 50178     \n",
            "                                                                 \n",
            "=================================================================\n",
            "Total params: 20,074,562\n",
            "Trainable params: 50,178\n",
            "Non-trainable params: 20,024,384\n",
            "_________________________________________________________________\n"
          ]
        }
      ]
    },
    {
      "cell_type": "code",
      "source": [
        "from tensorflow.keras.layers import MaxPooling2D"
      ],
      "metadata": {
        "id": "K_uzp3tbFMOA"
      },
      "execution_count": 23,
      "outputs": []
    },
    {
      "cell_type": "code",
      "source": [
        "### Create Model from scratch using CNN\n",
        "model=Sequential()\n",
        "model.add(Conv2D(filters=16,kernel_size=2,padding=\"same\",activation=\"relu\",input_shape=(224,224,3)))\n",
        "model.add(MaxPooling2D(pool_size=2))\n",
        "model.add(Conv2D(filters=32,kernel_size=2,padding=\"same\",activation =\"relu\"))\n",
        "model.add(MaxPooling2D(pool_size=2))\n",
        "model.add(Conv2D(filters=64,kernel_size=2,padding=\"same\",activation=\"relu\"))\n",
        "model.add(MaxPooling2D(pool_size=2))\n",
        "model.add(Flatten())\n",
        "model.add(Dense(500,activation=\"relu\"))\n",
        "model.add(Dense(2,activation=\"softmax\"))\n",
        "model.summary()"
      ],
      "metadata": {
        "colab": {
          "base_uri": "https://localhost:8080/"
        },
        "id": "oN0L-VriIk4k",
        "outputId": "fb771612-e4e2-488a-ddb1-3dbd83d851da"
      },
      "execution_count": 24,
      "outputs": [
        {
          "output_type": "stream",
          "name": "stdout",
          "text": [
            "Model: \"sequential\"\n",
            "_________________________________________________________________\n",
            " Layer (type)                Output Shape              Param #   \n",
            "=================================================================\n",
            " conv2d (Conv2D)             (None, 224, 224, 16)      208       \n",
            "                                                                 \n",
            " max_pooling2d (MaxPooling2D  (None, 112, 112, 16)     0         \n",
            " )                                                               \n",
            "                                                                 \n",
            " conv2d_1 (Conv2D)           (None, 112, 112, 32)      2080      \n",
            "                                                                 \n",
            " max_pooling2d_1 (MaxPooling  (None, 56, 56, 32)       0         \n",
            " 2D)                                                             \n",
            "                                                                 \n",
            " conv2d_2 (Conv2D)           (None, 56, 56, 64)        8256      \n",
            "                                                                 \n",
            " max_pooling2d_2 (MaxPooling  (None, 28, 28, 64)       0         \n",
            " 2D)                                                             \n",
            "                                                                 \n",
            " flatten_3 (Flatten)         (None, 50176)             0         \n",
            "                                                                 \n",
            " dense_3 (Dense)             (None, 500)               25088500  \n",
            "                                                                 \n",
            " dense_4 (Dense)             (None, 2)                 1002      \n",
            "                                                                 \n",
            "=================================================================\n",
            "Total params: 25,100,046\n",
            "Trainable params: 25,100,046\n",
            "Non-trainable params: 0\n",
            "_________________________________________________________________\n"
          ]
        }
      ]
    },
    {
      "cell_type": "code",
      "source": [
        "# tell the model what cost and optimization method to use\n",
        "model.compile(\n",
        "  loss='categorical_crossentropy',\n",
        "  optimizer='adam',\n",
        "  metrics=['accuracy']\n",
        ")"
      ],
      "metadata": {
        "id": "5gEbqgl0Il3L"
      },
      "execution_count": 25,
      "outputs": []
    },
    {
      "cell_type": "code",
      "source": [
        "# Use the Image Data Generator to import the images from the dataset\n",
        "from tensorflow.keras.preprocessing.image import ImageDataGenerator\n",
        "\n",
        "train_datagen = ImageDataGenerator(rescale = 1./255,\n",
        "                                   shear_range = 0.2,\n",
        "                                   zoom_range = 0.2,\n",
        "                                   horizontal_flip = True)\n",
        "\n",
        "test_datagen = ImageDataGenerator(rescale = 1./255)"
      ],
      "metadata": {
        "id": "xIhsL5MJIwhx"
      },
      "execution_count": 26,
      "outputs": []
    },
    {
      "cell_type": "code",
      "source": [
        "# Make sure you provide the same target size as initialied for the image size\n",
        "training_set = train_datagen.flow_from_directory('/content/drive/MyDrive/Dataset/Train',\n",
        "                                                 target_size = (224, 224),\n",
        "                                                 batch_size = 32,\n",
        "                                                 class_mode = 'categorical')"
      ],
      "metadata": {
        "colab": {
          "base_uri": "https://localhost:8080/"
        },
        "id": "DYDy-eRfIw9X",
        "outputId": "468da34d-fb1a-4f4a-d6b2-383c99e9eea1"
      },
      "execution_count": 28,
      "outputs": [
        {
          "output_type": "stream",
          "name": "stdout",
          "text": [
            "Found 416 images belonging to 2 classes.\n"
          ]
        }
      ]
    },
    {
      "cell_type": "code",
      "source": [
        "training_set"
      ],
      "metadata": {
        "id": "2D2m2rgvIyUm"
      },
      "execution_count": null,
      "outputs": []
    },
    {
      "cell_type": "code",
      "source": [
        "test_set = test_datagen.flow_from_directory('/content/drive/MyDrive/Dataset/Test',\n",
        "                                            target_size = (224, 224),\n",
        "                                            batch_size = 32,\n",
        "                                            class_mode = 'categorical')"
      ],
      "metadata": {
        "colab": {
          "base_uri": "https://localhost:8080/"
        },
        "id": "8pKA0WhVIxaC",
        "outputId": "9ce74606-5ca9-4392-ea43-a727f73b16d1"
      },
      "execution_count": 29,
      "outputs": [
        {
          "output_type": "stream",
          "name": "stdout",
          "text": [
            "Found 134 images belonging to 2 classes.\n"
          ]
        }
      ]
    },
    {
      "cell_type": "code",
      "source": [
        "# fit the model\n",
        "# Run the cell. It will take some time to execute\n",
        "r = model.fit_generator(\n",
        "  training_set,\n",
        "  validation_data=test_set,\n",
        "  epochs=50,\n",
        "  steps_per_epoch=len(training_set),\n",
        "  validation_steps=len(test_set)\n",
        ")"
      ],
      "metadata": {
        "colab": {
          "base_uri": "https://localhost:8080/"
        },
        "id": "P9-jkZjYKO70",
        "outputId": "e4a176b9-ec9c-4779-f390-b98e58bef55c"
      },
      "execution_count": 31,
      "outputs": [
        {
          "output_type": "stream",
          "name": "stderr",
          "text": [
            "/usr/local/lib/python3.7/dist-packages/ipykernel_launcher.py:8: UserWarning: `Model.fit_generator` is deprecated and will be removed in a future version. Please use `Model.fit`, which supports generators.\n",
            "  \n"
          ]
        },
        {
          "output_type": "stream",
          "name": "stdout",
          "text": [
            "Epoch 1/50\n",
            "13/13 [==============================] - 149s 11s/step - loss: 2.1791 - accuracy: 0.5337 - val_loss: 0.8239 - val_accuracy: 0.3209\n",
            "Epoch 2/50\n",
            "13/13 [==============================] - 7s 518ms/step - loss: 0.7249 - accuracy: 0.4808 - val_loss: 0.6746 - val_accuracy: 0.6791\n",
            "Epoch 3/50\n",
            "13/13 [==============================] - 7s 520ms/step - loss: 0.6843 - accuracy: 0.5577 - val_loss: 0.6858 - val_accuracy: 0.4925\n",
            "Epoch 4/50\n",
            "13/13 [==============================] - 7s 512ms/step - loss: 0.6710 - accuracy: 0.6178 - val_loss: 0.6363 - val_accuracy: 0.6791\n",
            "Epoch 5/50\n",
            "13/13 [==============================] - 7s 518ms/step - loss: 0.6927 - accuracy: 0.5409 - val_loss: 0.6770 - val_accuracy: 0.5522\n",
            "Epoch 6/50\n",
            "13/13 [==============================] - 7s 515ms/step - loss: 0.6693 - accuracy: 0.5986 - val_loss: 0.7257 - val_accuracy: 0.4328\n",
            "Epoch 7/50\n",
            "13/13 [==============================] - 7s 513ms/step - loss: 0.6589 - accuracy: 0.5865 - val_loss: 0.6336 - val_accuracy: 0.6567\n",
            "Epoch 8/50\n",
            "13/13 [==============================] - 7s 522ms/step - loss: 0.6356 - accuracy: 0.5938 - val_loss: 0.6433 - val_accuracy: 0.5896\n",
            "Epoch 9/50\n",
            "13/13 [==============================] - 7s 519ms/step - loss: 0.5926 - accuracy: 0.6779 - val_loss: 1.2040 - val_accuracy: 0.4030\n",
            "Epoch 10/50\n",
            "13/13 [==============================] - 7s 515ms/step - loss: 0.5580 - accuracy: 0.6947 - val_loss: 0.9645 - val_accuracy: 0.3955\n",
            "Epoch 11/50\n",
            "13/13 [==============================] - 7s 516ms/step - loss: 0.4702 - accuracy: 0.7764 - val_loss: 0.8456 - val_accuracy: 0.4478\n",
            "Epoch 12/50\n",
            "13/13 [==============================] - 7s 519ms/step - loss: 0.4540 - accuracy: 0.7644 - val_loss: 0.6431 - val_accuracy: 0.5896\n",
            "Epoch 13/50\n",
            "13/13 [==============================] - 7s 523ms/step - loss: 0.5180 - accuracy: 0.7188 - val_loss: 0.7891 - val_accuracy: 0.4627\n",
            "Epoch 14/50\n",
            "13/13 [==============================] - 7s 516ms/step - loss: 0.4243 - accuracy: 0.8029 - val_loss: 1.1827 - val_accuracy: 0.4701\n",
            "Epoch 15/50\n",
            "13/13 [==============================] - 7s 511ms/step - loss: 0.5263 - accuracy: 0.7452 - val_loss: 0.6903 - val_accuracy: 0.5448\n",
            "Epoch 16/50\n",
            "13/13 [==============================] - 7s 517ms/step - loss: 0.4812 - accuracy: 0.7620 - val_loss: 0.7341 - val_accuracy: 0.6119\n",
            "Epoch 17/50\n",
            "13/13 [==============================] - 7s 523ms/step - loss: 0.4331 - accuracy: 0.7764 - val_loss: 0.8067 - val_accuracy: 0.5224\n",
            "Epoch 18/50\n",
            "13/13 [==============================] - 7s 520ms/step - loss: 0.3718 - accuracy: 0.8486 - val_loss: 0.7153 - val_accuracy: 0.5448\n",
            "Epoch 19/50\n",
            "13/13 [==============================] - 7s 515ms/step - loss: 0.4151 - accuracy: 0.8125 - val_loss: 0.7107 - val_accuracy: 0.5597\n",
            "Epoch 20/50\n",
            "13/13 [==============================] - 7s 520ms/step - loss: 0.3852 - accuracy: 0.8341 - val_loss: 0.7960 - val_accuracy: 0.5597\n",
            "Epoch 21/50\n",
            "13/13 [==============================] - 7s 517ms/step - loss: 0.3180 - accuracy: 0.8750 - val_loss: 0.6824 - val_accuracy: 0.6269\n",
            "Epoch 22/50\n",
            "13/13 [==============================] - 7s 516ms/step - loss: 0.3313 - accuracy: 0.8486 - val_loss: 0.4449 - val_accuracy: 0.8209\n",
            "Epoch 23/50\n",
            "13/13 [==============================] - 7s 523ms/step - loss: 0.2906 - accuracy: 0.8822 - val_loss: 0.7121 - val_accuracy: 0.5970\n",
            "Epoch 24/50\n",
            "13/13 [==============================] - 7s 513ms/step - loss: 0.2315 - accuracy: 0.9014 - val_loss: 0.4931 - val_accuracy: 0.7687\n",
            "Epoch 25/50\n",
            "13/13 [==============================] - 7s 516ms/step - loss: 0.2244 - accuracy: 0.9207 - val_loss: 0.4249 - val_accuracy: 0.7985\n",
            "Epoch 26/50\n",
            "13/13 [==============================] - 7s 522ms/step - loss: 0.1897 - accuracy: 0.9447 - val_loss: 0.5791 - val_accuracy: 0.7313\n",
            "Epoch 27/50\n",
            "13/13 [==============================] - 7s 520ms/step - loss: 0.1979 - accuracy: 0.9279 - val_loss: 0.4418 - val_accuracy: 0.7910\n",
            "Epoch 28/50\n",
            "13/13 [==============================] - 7s 511ms/step - loss: 0.1694 - accuracy: 0.9471 - val_loss: 0.7450 - val_accuracy: 0.6791\n",
            "Epoch 29/50\n",
            "13/13 [==============================] - 7s 518ms/step - loss: 0.1867 - accuracy: 0.9375 - val_loss: 0.2983 - val_accuracy: 0.8657\n",
            "Epoch 30/50\n",
            "13/13 [==============================] - 7s 508ms/step - loss: 0.1345 - accuracy: 0.9615 - val_loss: 0.3138 - val_accuracy: 0.8731\n",
            "Epoch 31/50\n",
            "13/13 [==============================] - 7s 514ms/step - loss: 0.1049 - accuracy: 0.9615 - val_loss: 0.4114 - val_accuracy: 0.8060\n",
            "Epoch 32/50\n",
            "13/13 [==============================] - 7s 521ms/step - loss: 0.1258 - accuracy: 0.9567 - val_loss: 0.2329 - val_accuracy: 0.9030\n",
            "Epoch 33/50\n",
            "13/13 [==============================] - 7s 507ms/step - loss: 0.1380 - accuracy: 0.9639 - val_loss: 0.6483 - val_accuracy: 0.7761\n",
            "Epoch 34/50\n",
            "13/13 [==============================] - 7s 510ms/step - loss: 0.1748 - accuracy: 0.9423 - val_loss: 0.3986 - val_accuracy: 0.8060\n",
            "Epoch 35/50\n",
            "13/13 [==============================] - 7s 510ms/step - loss: 0.1353 - accuracy: 0.9519 - val_loss: 0.2626 - val_accuracy: 0.8657\n",
            "Epoch 36/50\n",
            "13/13 [==============================] - 7s 517ms/step - loss: 0.1616 - accuracy: 0.9567 - val_loss: 0.2391 - val_accuracy: 0.8955\n",
            "Epoch 37/50\n",
            "13/13 [==============================] - 7s 510ms/step - loss: 0.1287 - accuracy: 0.9639 - val_loss: 0.3315 - val_accuracy: 0.8358\n",
            "Epoch 38/50\n",
            "13/13 [==============================] - 7s 513ms/step - loss: 0.1087 - accuracy: 0.9688 - val_loss: 0.2381 - val_accuracy: 0.8881\n",
            "Epoch 39/50\n",
            "13/13 [==============================] - 7s 508ms/step - loss: 0.1036 - accuracy: 0.9760 - val_loss: 0.5652 - val_accuracy: 0.8134\n",
            "Epoch 40/50\n",
            "13/13 [==============================] - 7s 512ms/step - loss: 0.1455 - accuracy: 0.9615 - val_loss: 0.2311 - val_accuracy: 0.9030\n",
            "Epoch 41/50\n",
            "13/13 [==============================] - 7s 517ms/step - loss: 0.0935 - accuracy: 0.9736 - val_loss: 0.2837 - val_accuracy: 0.9030\n",
            "Epoch 42/50\n",
            "13/13 [==============================] - 7s 518ms/step - loss: 0.0544 - accuracy: 0.9784 - val_loss: 0.2622 - val_accuracy: 0.9179\n",
            "Epoch 43/50\n",
            "13/13 [==============================] - 7s 523ms/step - loss: 0.0757 - accuracy: 0.9856 - val_loss: 0.3451 - val_accuracy: 0.8881\n",
            "Epoch 44/50\n",
            "13/13 [==============================] - 7s 513ms/step - loss: 0.0697 - accuracy: 0.9808 - val_loss: 0.2119 - val_accuracy: 0.8955\n",
            "Epoch 45/50\n",
            "13/13 [==============================] - 7s 516ms/step - loss: 0.0694 - accuracy: 0.9856 - val_loss: 0.3908 - val_accuracy: 0.8881\n",
            "Epoch 46/50\n",
            "13/13 [==============================] - 7s 510ms/step - loss: 0.0620 - accuracy: 0.9784 - val_loss: 0.3419 - val_accuracy: 0.9030\n",
            "Epoch 47/50\n",
            "13/13 [==============================] - 7s 516ms/step - loss: 0.0492 - accuracy: 0.9832 - val_loss: 0.3038 - val_accuracy: 0.9104\n",
            "Epoch 48/50\n",
            "13/13 [==============================] - 7s 509ms/step - loss: 0.0671 - accuracy: 0.9880 - val_loss: 0.3587 - val_accuracy: 0.9104\n",
            "Epoch 49/50\n",
            "13/13 [==============================] - 7s 507ms/step - loss: 0.0419 - accuracy: 0.9880 - val_loss: 0.2332 - val_accuracy: 0.9179\n",
            "Epoch 50/50\n",
            "13/13 [==============================] - 7s 512ms/step - loss: 0.0633 - accuracy: 0.9856 - val_loss: 0.2561 - val_accuracy: 0.9104\n"
          ]
        }
      ]
    },
    {
      "cell_type": "code",
      "source": [
        "# plot the loss\n",
        "plt.plot(r.history['loss'], label='train loss')\n",
        "plt.plot(r.history['val_loss'], label='val loss')\n",
        "plt.legend()\n",
        "plt.show()\n",
        "plt.savefig('LossVal_loss')\n",
        "\n",
        "# plot the accuracy\n",
        "plt.plot(r.history['accuracy'], label='train acc')\n",
        "plt.plot(r.history['val_accuracy'], label='val acc')\n",
        "plt.legend()\n",
        "plt.show()\n",
        "plt.savefig('AccVal_acc')"
      ],
      "metadata": {
        "colab": {
          "base_uri": "https://localhost:8080/",
          "height": 530
        },
        "id": "lTuCHv0GKOd0",
        "outputId": "46d6691e-29a2-4cc2-b044-299f93641ad8"
      },
      "execution_count": 32,
      "outputs": [
        {
          "output_type": "display_data",
          "data": {
            "text/plain": [
              "<Figure size 432x288 with 1 Axes>"
            ],
            "image/png": "[encoded data removed]"
          },
          "metadata": {
            "needs_background": "light"
          }
        },
        {
          "output_type": "display_data",
          "data": {
            "text/plain": [
              "<Figure size 432x288 with 1 Axes>"
            ],
            "image/png": "[encoded data removed]"
          },
          "metadata": {
            "needs_background": "light"
          }
        },
        {
          "output_type": "display_data",
          "data": {
            "text/plain": [
              "<Figure size 432x288 with 0 Axes>"
            ]
          },
          "metadata": {}
        }
      ]
    },
    {
      "cell_type": "code",
      "source": [
        "# save it as a h5 file\n",
        "\n",
        "\n",
        "from tensorflow.keras.models import load_model\n",
        "\n",
        "model.save('model_vgg19.h5')"
      ],
      "metadata": {
        "id": "iQKLhsqlKlxJ"
      },
      "execution_count": 33,
      "outputs": []
    },
    {
      "cell_type": "code",
      "source": [
        "y_pred = model.predict(test_set)"
      ],
      "metadata": {
        "id": "3GAwvuLpKm_d"
      },
      "execution_count": 34,
      "outputs": []
    },
    {
      "cell_type": "code",
      "source": [
        "y_pred"
      ],
      "metadata": {
        "colab": {
          "base_uri": "https://localhost:8080/"
        },
        "id": "cv0Fg9khKqAM",
        "outputId": "233c102e-2a53-44ee-e54a-76f7f3762018"
      },
      "execution_count": 35,
      "outputs": [
        {
          "output_type": "execute_result",
          "data": {
            "text/plain": [
              "array([[9.99854922e-01, 1.45048572e-04],\n",
              "       [6.61132624e-03, 9.93388653e-01],\n",
              "       [9.99230742e-01, 7.69236125e-04],\n",
              "       [9.98466909e-01, 1.53302355e-03],\n",
              "       [9.59389031e-01, 4.06109244e-02],\n",
              "       [5.73071092e-03, 9.94269252e-01],\n",
              "       [1.00000000e+00, 1.80662578e-08],\n",
              "       [9.66328502e-01, 3.36715169e-02],\n",
              "       [1.12324376e-02, 9.88767564e-01],\n",
              "       [9.99992013e-01, 7.96145741e-06],\n",
              "       [9.99273717e-01, 7.26250117e-04],\n",
              "       [4.43075337e-02, 9.55692470e-01],\n",
              "       [9.97760892e-01, 2.23909481e-03],\n",
              "       [1.18828546e-02, 9.88117158e-01],\n",
              "       [1.00000000e+00, 3.75678084e-08],\n",
              "       [9.97878075e-01, 2.12191581e-03],\n",
              "       [9.99941587e-01, 5.84520276e-05],\n",
              "       [9.99822319e-01, 1.77761089e-04],\n",
              "       [4.55070697e-02, 9.54492927e-01],\n",
              "       [9.98784959e-01, 1.21503707e-03],\n",
              "       [9.26730409e-02, 9.07326996e-01],\n",
              "       [9.99351561e-01, 6.48454530e-04],\n",
              "       [1.00000000e+00, 4.72876920e-08],\n",
              "       [9.97507393e-01, 2.49258894e-03],\n",
              "       [1.77638177e-02, 9.82236147e-01],\n",
              "       [3.28844190e-02, 9.67115581e-01],\n",
              "       [9.97944176e-01, 2.05584592e-03],\n",
              "       [9.95902002e-01, 4.09802748e-03],\n",
              "       [1.00000000e+00, 1.27741845e-10],\n",
              "       [8.30629934e-03, 9.91693676e-01],\n",
              "       [8.07746768e-01, 1.92253217e-01],\n",
              "       [9.98962522e-01, 1.03741768e-03],\n",
              "       [1.19283339e-02, 9.88071680e-01],\n",
              "       [1.00000000e+00, 1.00502804e-13],\n",
              "       [9.97387469e-01, 2.61255191e-03],\n",
              "       [9.71028328e-01, 2.89717037e-02],\n",
              "       [6.96794808e-01, 3.03205162e-01],\n",
              "       [9.89284575e-01, 1.07154110e-02],\n",
              "       [9.99967813e-01, 3.21988446e-05],\n",
              "       [2.05185004e-02, 9.79481518e-01],\n",
              "       [5.53986579e-02, 9.44601357e-01],\n",
              "       [9.99969959e-01, 3.00609845e-05],\n",
              "       [9.99873042e-01, 1.26971339e-04],\n",
              "       [2.51999665e-02, 9.74800110e-01],\n",
              "       [9.98589218e-01, 1.41078839e-03],\n",
              "       [9.99994278e-01, 5.74192200e-06],\n",
              "       [1.22005567e-02, 9.87799406e-01],\n",
              "       [5.64218760e-02, 9.43578184e-01],\n",
              "       [9.98897433e-01, 1.10257068e-03],\n",
              "       [9.98723447e-01, 1.27656641e-03],\n",
              "       [9.93124664e-01, 6.87531941e-03],\n",
              "       [1.71037704e-01, 8.28962326e-01],\n",
              "       [1.18914172e-01, 8.81085753e-01],\n",
              "       [2.98613217e-02, 9.70138729e-01],\n",
              "       [9.99173939e-01, 8.26001691e-04],\n",
              "       [9.97808039e-01, 2.19196011e-03],\n",
              "       [9.99804318e-01, 1.95761881e-04],\n",
              "       [1.65998712e-02, 9.83400166e-01],\n",
              "       [1.00000000e+00, 4.66842067e-08],\n",
              "       [2.09748924e-01, 7.90251017e-01],\n",
              "       [3.38890627e-02, 9.66110945e-01],\n",
              "       [3.54655795e-02, 9.64534402e-01],\n",
              "       [8.45767260e-02, 9.15423334e-01],\n",
              "       [9.65338171e-01, 3.46618928e-02],\n",
              "       [9.99838948e-01, 1.61025688e-04],\n",
              "       [3.52095738e-02, 9.64790463e-01],\n",
              "       [3.37633640e-02, 9.66236711e-01],\n",
              "       [8.03642631e-01, 1.96357444e-01],\n",
              "       [9.99999404e-01, 6.14562396e-07],\n",
              "       [5.06837294e-02, 9.49316323e-01],\n",
              "       [3.48505646e-01, 6.51494384e-01],\n",
              "       [1.69066012e-01, 8.30934048e-01],\n",
              "       [9.97905612e-01, 2.09445832e-03],\n",
              "       [5.47799096e-03, 9.94521976e-01],\n",
              "       [9.99997020e-01, 2.99405269e-06],\n",
              "       [5.50941518e-03, 9.94490623e-01],\n",
              "       [9.99950886e-01, 4.91420760e-05],\n",
              "       [1.17737204e-01, 8.82262826e-01],\n",
              "       [9.99999285e-01, 7.47337936e-07],\n",
              "       [9.99995708e-01, 4.32135039e-06],\n",
              "       [9.99283612e-01, 7.16429378e-04],\n",
              "       [9.99127567e-01, 8.72417819e-04],\n",
              "       [9.07549083e-01, 9.24509168e-02],\n",
              "       [3.23637463e-02, 9.67636228e-01],\n",
              "       [1.65840629e-02, 9.83415961e-01],\n",
              "       [9.99283373e-01, 7.16651615e-04],\n",
              "       [5.46486974e-02, 9.45351303e-01],\n",
              "       [2.64814142e-02, 9.73518550e-01],\n",
              "       [9.93687212e-01, 6.31283363e-03],\n",
              "       [7.74148479e-02, 9.22585130e-01],\n",
              "       [3.29493769e-02, 9.67050612e-01],\n",
              "       [9.99052346e-01, 9.47630324e-04],\n",
              "       [9.94431078e-01, 5.56896627e-03],\n",
              "       [9.99853849e-01, 1.46185062e-04],\n",
              "       [9.99941707e-01, 5.82932116e-05],\n",
              "       [9.99827743e-01, 1.72182015e-04],\n",
              "       [9.99980807e-01, 1.91488307e-05],\n",
              "       [9.99998093e-01, 1.88427259e-06],\n",
              "       [5.98401576e-03, 9.94015932e-01],\n",
              "       [1.00000000e+00, 3.75745001e-14],\n",
              "       [9.77889955e-01, 2.21100617e-02],\n",
              "       [7.17618167e-01, 2.82381833e-01],\n",
              "       [9.99254525e-01, 7.45477504e-04],\n",
              "       [3.97032201e-02, 9.60296750e-01],\n",
              "       [9.99999762e-01, 1.99743553e-07],\n",
              "       [1.00000000e+00, 1.01116571e-09],\n",
              "       [5.54035529e-02, 9.44596469e-01],\n",
              "       [9.99218106e-01, 7.81891635e-04],\n",
              "       [1.97145939e-01, 8.02854061e-01],\n",
              "       [9.98584390e-01, 1.41560042e-03],\n",
              "       [4.49530967e-02, 9.55046952e-01],\n",
              "       [9.99494791e-01, 5.05142787e-04],\n",
              "       [2.09470913e-02, 9.79052961e-01],\n",
              "       [4.75897733e-03, 9.95241046e-01],\n",
              "       [4.40782774e-03, 9.95592177e-01],\n",
              "       [2.58382931e-02, 9.74161744e-01],\n",
              "       [3.05807348e-02, 9.69419301e-01],\n",
              "       [5.40699717e-03, 9.94592965e-01],\n",
              "       [4.72619981e-02, 9.52738047e-01],\n",
              "       [2.48697788e-01, 7.51302242e-01],\n",
              "       [9.98838484e-01, 1.16155099e-03],\n",
              "       [9.99773920e-01, 2.26132775e-04],\n",
              "       [9.97397065e-01, 2.60294625e-03],\n",
              "       [3.52742486e-02, 9.64725792e-01],\n",
              "       [9.99717653e-01, 2.82383320e-04],\n",
              "       [1.00000000e+00, 1.32592002e-11],\n",
              "       [9.96948659e-01, 3.05141439e-03],\n",
              "       [9.99419451e-01, 5.80547436e-04],\n",
              "       [1.10950783e-01, 8.89049232e-01],\n",
              "       [9.99969125e-01, 3.09234019e-05],\n",
              "       [2.89289728e-02, 9.71071064e-01],\n",
              "       [9.93696868e-01, 6.30310131e-03],\n",
              "       [9.07167137e-01, 9.28328410e-02],\n",
              "       [4.29140143e-02, 9.57085967e-01]], dtype=float32)"
            ]
          },
          "metadata": {},
          "execution_count": 35
        }
      ]
    },
    {
      "cell_type": "code",
      "source": [
        "import numpy as np\n",
        "y_pred = np.argmax(y_pred, axis=1)"
      ],
      "metadata": {
        "id": "bwkxnhCiKrQB"
      },
      "execution_count": 36,
      "outputs": []
    },
    {
      "cell_type": "code",
      "source": [
        "y_pred"
      ],
      "metadata": {
        "colab": {
          "base_uri": "https://localhost:8080/"
        },
        "id": "zx1rnt95KxNd",
        "outputId": "9295eb45-df4f-4183-d1b9-a8a91cc4aaeb"
      },
      "execution_count": 37,
      "outputs": [
        {
          "output_type": "execute_result",
          "data": {
            "text/plain": [
              "array([0, 1, 0, 0, 0, 1, 0, 0, 1, 0, 0, 1, 0, 1, 0, 0, 0, 0, 1, 0, 1, 0,\n",
              "       0, 0, 1, 1, 0, 0, 0, 1, 0, 0, 1, 0, 0, 0, 0, 0, 0, 1, 1, 0, 0, 1,\n",
              "       0, 0, 1, 1, 0, 0, 0, 1, 1, 1, 0, 0, 0, 1, 0, 1, 1, 1, 1, 0, 0, 1,\n",
              "       1, 0, 0, 1, 1, 1, 0, 1, 0, 1, 0, 1, 0, 0, 0, 0, 0, 1, 1, 0, 1, 1,\n",
              "       0, 1, 1, 0, 0, 0, 0, 0, 0, 0, 1, 0, 0, 0, 0, 1, 0, 0, 1, 0, 1, 0,\n",
              "       1, 0, 1, 1, 1, 1, 1, 1, 1, 1, 0, 0, 0, 1, 0, 0, 0, 0, 1, 0, 1, 0,\n",
              "       0, 1])"
            ]
          },
          "metadata": {},
          "execution_count": 37
        }
      ]
    },
    {
      "cell_type": "code",
      "source": [
        "from tensorflow.keras.models import load_model\n",
        "from tensorflow.keras.preprocessing import image"
      ],
      "metadata": {
        "id": "NNQLMjV_K2oz"
      },
      "execution_count": 38,
      "outputs": []
    },
    {
      "cell_type": "code",
      "source": [
        "model=load_model('model_vgg19.h5')"
      ],
      "metadata": {
        "id": "ZM1uj2PFK6Zm"
      },
      "execution_count": 39,
      "outputs": []
    },
    {
      "cell_type": "code",
      "source": [
        "img=image.load_img('/content/drive/MyDrive/Dataset/Test/Uninfected/2.png',target_size=(224,224))"
      ],
      "metadata": {
        "id": "pqRwwHimK-tW"
      },
      "execution_count": 41,
      "outputs": []
    },
    {
      "cell_type": "code",
      "source": [
        "x=image.img_to_array(img)\n",
        "x"
      ],
      "metadata": {
        "colab": {
          "base_uri": "https://localhost:8080/"
        },
        "id": "NDq6YnI4LBRD",
        "outputId": "ac8573aa-2c19-43bd-fe9d-af9060d2576b"
      },
      "execution_count": 42,
      "outputs": [
        {
          "output_type": "execute_result",
          "data": {
            "text/plain": [
              "array([[[0., 0., 0.],\n",
              "        [0., 0., 0.],\n",
              "        [0., 0., 0.],\n",
              "        ...,\n",
              "        [0., 0., 0.],\n",
              "        [0., 0., 0.],\n",
              "        [0., 0., 0.]],\n",
              "\n",
              "       [[0., 0., 0.],\n",
              "        [0., 0., 0.],\n",
              "        [0., 0., 0.],\n",
              "        ...,\n",
              "        [0., 0., 0.],\n",
              "        [0., 0., 0.],\n",
              "        [0., 0., 0.]],\n",
              "\n",
              "       [[0., 0., 0.],\n",
              "        [0., 0., 0.],\n",
              "        [0., 0., 0.],\n",
              "        ...,\n",
              "        [0., 0., 0.],\n",
              "        [0., 0., 0.],\n",
              "        [0., 0., 0.]],\n",
              "\n",
              "       ...,\n",
              "\n",
              "       [[0., 0., 0.],\n",
              "        [0., 0., 0.],\n",
              "        [0., 0., 0.],\n",
              "        ...,\n",
              "        [0., 0., 0.],\n",
              "        [0., 0., 0.],\n",
              "        [0., 0., 0.]],\n",
              "\n",
              "       [[0., 0., 0.],\n",
              "        [0., 0., 0.],\n",
              "        [0., 0., 0.],\n",
              "        ...,\n",
              "        [0., 0., 0.],\n",
              "        [0., 0., 0.],\n",
              "        [0., 0., 0.]],\n",
              "\n",
              "       [[0., 0., 0.],\n",
              "        [0., 0., 0.],\n",
              "        [0., 0., 0.],\n",
              "        ...,\n",
              "        [0., 0., 0.],\n",
              "        [0., 0., 0.],\n",
              "        [0., 0., 0.]]], dtype=float32)"
            ]
          },
          "metadata": {},
          "execution_count": 42
        }
      ]
    },
    {
      "cell_type": "code",
      "source": [
        "x.shape"
      ],
      "metadata": {
        "colab": {
          "base_uri": "https://localhost:8080/"
        },
        "id": "9RgKtPNjLHsa",
        "outputId": "78f929ff-bc6b-4382-bb26-8d80f3645726"
      },
      "execution_count": 43,
      "outputs": [
        {
          "output_type": "execute_result",
          "data": {
            "text/plain": [
              "(224, 224, 3)"
            ]
          },
          "metadata": {},
          "execution_count": 43
        }
      ]
    },
    {
      "cell_type": "code",
      "source": [
        "x = x/255"
      ],
      "metadata": {
        "id": "qoLuKA_ALHpm"
      },
      "execution_count": 44,
      "outputs": []
    },
    {
      "cell_type": "code",
      "source": [
        "x=np.expand_dims(x,axis=0)\n",
        "img_data=preprocess_input(x)\n",
        "img_data.shape"
      ],
      "metadata": {
        "colab": {
          "base_uri": "https://localhost:8080/"
        },
        "id": "PbGErFyZLHgN",
        "outputId": "655cd0bf-23ba-4a97-9d3f-565cb9d580de"
      },
      "execution_count": 45,
      "outputs": [
        {
          "output_type": "execute_result",
          "data": {
            "text/plain": [
              "(1, 224, 224, 3)"
            ]
          },
          "metadata": {},
          "execution_count": 45
        }
      ]
    },
    {
      "cell_type": "code",
      "source": [
        "model.predict(img_data)\n"
      ],
      "metadata": {
        "colab": {
          "base_uri": "https://localhost:8080/"
        },
        "id": "68ObxltGLHRx",
        "outputId": "c8269e7e-bc40-45d6-81a1-c12897344fa6"
      },
      "execution_count": 46,
      "outputs": [
        {
          "output_type": "execute_result",
          "data": {
            "text/plain": [
              "array([[0., 1.]], dtype=float32)"
            ]
          },
          "metadata": {},
          "execution_count": 46
        }
      ]
    },
    {
      "cell_type": "code",
      "source": [
        "a=np.argmax(model.predict(img_data), axis=1)"
      ],
      "metadata": {
        "id": "8CGEzRtcLUQU"
      },
      "execution_count": 47,
      "outputs": []
    },
    {
      "cell_type": "code",
      "source": [
        "if(a==1):\n",
        "    print(\"Uninfected\")\n",
        "else:\n",
        "    print(\"Infected\")"
      ],
      "metadata": {
        "colab": {
          "base_uri": "https://localhost:8080/"
        },
        "id": "cVEn_k38LG1b",
        "outputId": "2bb26e7f-7628-49aa-ed8a-4e491daab778"
      },
      "execution_count": 48,
      "outputs": [
        {
          "output_type": "stream",
          "name": "stdout",
          "text": [
            "Uninfected\n"
          ]
        }
      ]
    }
  ]
}